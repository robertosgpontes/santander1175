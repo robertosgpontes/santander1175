{
 "cells": [
  {
   "cell_type": "code",
   "execution_count": 116,
   "metadata": {},
   "outputs": [],
   "source": [
    "import pandas as pd"
   ]
  },
  {
   "cell_type": "code",
   "execution_count": 117,
   "metadata": {},
   "outputs": [],
   "source": [
    "profile = pd.read_excel('datasets/alunos/profiles.xlsx')"
   ]
  },
  {
   "cell_type": "code",
   "execution_count": 118,
   "metadata": {},
   "outputs": [],
   "source": [
    "col_names = {\n",
    "    'NOME:': 'Participant', \n",
    "    'IDADE': 'idade',\n",
    "    'REGIAO RESIDÊNCIA': 'regiao_uf', \n",
    "    'FORMAÇÃO ACADÊMICA:': 'area_formacao',\n",
    "    'JÁ UTILIZOU GIT?': 'git',\n",
    "    'JÁ UTILIZOU PANDAS?': 'pandas', \n",
    "    'JÁ UTILIZOU NUMPY?': 'numpy',\n",
    "}"
   ]
  },
  {
   "cell_type": "code",
   "execution_count": 119,
   "metadata": {},
   "outputs": [
    {
     "data": {
      "text/html": [
       "<div>\n",
       "<style scoped>\n",
       "    .dataframe tbody tr th:only-of-type {\n",
       "        vertical-align: middle;\n",
       "    }\n",
       "\n",
       "    .dataframe tbody tr th {\n",
       "        vertical-align: top;\n",
       "    }\n",
       "\n",
       "    .dataframe thead th {\n",
       "        text-align: right;\n",
       "    }\n",
       "</style>\n",
       "<table border=\"1\" class=\"dataframe\">\n",
       "  <thead>\n",
       "    <tr style=\"text-align: right;\">\n",
       "      <th></th>\n",
       "      <th>Participant</th>\n",
       "      <th>idade</th>\n",
       "      <th>regiao_uf</th>\n",
       "      <th>area_formacao</th>\n",
       "      <th>git</th>\n",
       "      <th>pandas</th>\n",
       "      <th>numpy</th>\n",
       "    </tr>\n",
       "  </thead>\n",
       "  <tbody>\n",
       "    <tr>\n",
       "      <th>0</th>\n",
       "      <td>939065eece719c2e24382f347e0395ab9aa3f4933249c3...</td>\n",
       "      <td>&lt;30</td>\n",
       "      <td>Sul/Sudeste</td>\n",
       "      <td>NaN</td>\n",
       "      <td>NÃO</td>\n",
       "      <td>NÃO</td>\n",
       "      <td>NÃO</td>\n",
       "    </tr>\n",
       "    <tr>\n",
       "      <th>1</th>\n",
       "      <td>f5e39c38b5d7ae57a67a4e533d1c3fbadcbddae039868a...</td>\n",
       "      <td>&lt;30</td>\n",
       "      <td>Sul/Sudeste</td>\n",
       "      <td>Ciências Exatas</td>\n",
       "      <td>SIM</td>\n",
       "      <td>NÃO</td>\n",
       "      <td>NÃO</td>\n",
       "    </tr>\n",
       "  </tbody>\n",
       "</table>\n",
       "</div>"
      ],
      "text/plain": [
       "                                         Participant idade    regiao_uf  \\\n",
       "0  939065eece719c2e24382f347e0395ab9aa3f4933249c3...   <30  Sul/Sudeste   \n",
       "1  f5e39c38b5d7ae57a67a4e533d1c3fbadcbddae039868a...   <30  Sul/Sudeste   \n",
       "\n",
       "     area_formacao  git pandas numpy  \n",
       "0              NaN  NÃO    NÃO   NÃO  \n",
       "1  Ciências Exatas  SIM    NÃO   NÃO  "
      ]
     },
     "execution_count": 119,
     "metadata": {},
     "output_type": "execute_result"
    }
   ],
   "source": [
    "#forma 1\n",
    "\n",
    "profile.rename(columns=col_names).head(2)"
   ]
  },
  {
   "cell_type": "code",
   "execution_count": 120,
   "metadata": {},
   "outputs": [
    {
     "data": {
      "text/html": [
       "<div>\n",
       "<style scoped>\n",
       "    .dataframe tbody tr th:only-of-type {\n",
       "        vertical-align: middle;\n",
       "    }\n",
       "\n",
       "    .dataframe tbody tr th {\n",
       "        vertical-align: top;\n",
       "    }\n",
       "\n",
       "    .dataframe thead th {\n",
       "        text-align: right;\n",
       "    }\n",
       "</style>\n",
       "<table border=\"1\" class=\"dataframe\">\n",
       "  <thead>\n",
       "    <tr style=\"text-align: right;\">\n",
       "      <th></th>\n",
       "      <th>Participant</th>\n",
       "      <th>idade</th>\n",
       "      <th>regiao_uf</th>\n",
       "      <th>area_formacao</th>\n",
       "      <th>git</th>\n",
       "      <th>pandas</th>\n",
       "      <th>numpy</th>\n",
       "    </tr>\n",
       "  </thead>\n",
       "  <tbody>\n",
       "    <tr>\n",
       "      <th>0</th>\n",
       "      <td>939065eece719c2e24382f347e0395ab9aa3f4933249c3...</td>\n",
       "      <td>&lt;30</td>\n",
       "      <td>Sul/Sudeste</td>\n",
       "      <td>NaN</td>\n",
       "      <td>NÃO</td>\n",
       "      <td>NÃO</td>\n",
       "      <td>NÃO</td>\n",
       "    </tr>\n",
       "    <tr>\n",
       "      <th>1</th>\n",
       "      <td>f5e39c38b5d7ae57a67a4e533d1c3fbadcbddae039868a...</td>\n",
       "      <td>&lt;30</td>\n",
       "      <td>Sul/Sudeste</td>\n",
       "      <td>Ciências Exatas</td>\n",
       "      <td>SIM</td>\n",
       "      <td>NÃO</td>\n",
       "      <td>NÃO</td>\n",
       "    </tr>\n",
       "  </tbody>\n",
       "</table>\n",
       "</div>"
      ],
      "text/plain": [
       "                                         Participant idade    regiao_uf  \\\n",
       "0  939065eece719c2e24382f347e0395ab9aa3f4933249c3...   <30  Sul/Sudeste   \n",
       "1  f5e39c38b5d7ae57a67a4e533d1c3fbadcbddae039868a...   <30  Sul/Sudeste   \n",
       "\n",
       "     area_formacao  git pandas numpy  \n",
       "0              NaN  NÃO    NÃO   NÃO  \n",
       "1  Ciências Exatas  SIM    NÃO   NÃO  "
      ]
     },
     "execution_count": 120,
     "metadata": {},
     "output_type": "execute_result"
    }
   ],
   "source": [
    "#forma 2\n",
    "\n",
    "profile.columns = ['Participant', 'idade', 'regiao_uf', 'area_formacao', 'git', 'pandas', 'numpy']\n",
    "profile.head(2)"
   ]
  },
  {
   "cell_type": "code",
   "execution_count": 121,
   "metadata": {},
   "outputs": [
    {
     "data": {
      "text/html": [
       "<div>\n",
       "<style scoped>\n",
       "    .dataframe tbody tr th:only-of-type {\n",
       "        vertical-align: middle;\n",
       "    }\n",
       "\n",
       "    .dataframe tbody tr th {\n",
       "        vertical-align: top;\n",
       "    }\n",
       "\n",
       "    .dataframe thead th {\n",
       "        text-align: right;\n",
       "    }\n",
       "</style>\n",
       "<table border=\"1\" class=\"dataframe\">\n",
       "  <thead>\n",
       "    <tr style=\"text-align: right;\">\n",
       "      <th></th>\n",
       "      <th>Participant</th>\n",
       "      <th>idade</th>\n",
       "      <th>regiao_uf</th>\n",
       "      <th>area_formacao</th>\n",
       "      <th>git</th>\n",
       "      <th>pandas</th>\n",
       "      <th>numpy</th>\n",
       "    </tr>\n",
       "  </thead>\n",
       "  <tbody>\n",
       "    <tr>\n",
       "      <th>0</th>\n",
       "      <td>939065eece719c2e24382f347e0395ab9aa3f4933249c3...</td>\n",
       "      <td>&lt;30</td>\n",
       "      <td>Sul/Sudeste</td>\n",
       "      <td>NaN</td>\n",
       "      <td>NÃO</td>\n",
       "      <td>NÃO</td>\n",
       "      <td>NÃO</td>\n",
       "    </tr>\n",
       "    <tr>\n",
       "      <th>1</th>\n",
       "      <td>f5e39c38b5d7ae57a67a4e533d1c3fbadcbddae039868a...</td>\n",
       "      <td>&lt;30</td>\n",
       "      <td>Sul/Sudeste</td>\n",
       "      <td>Ciências Exatas</td>\n",
       "      <td>SIM</td>\n",
       "      <td>NÃO</td>\n",
       "      <td>NÃO</td>\n",
       "    </tr>\n",
       "    <tr>\n",
       "      <th>2</th>\n",
       "      <td>365bea1e0e58d1dd2124f6156f41cf26bde7babc74cbea...</td>\n",
       "      <td>&lt;30</td>\n",
       "      <td>Nordeste</td>\n",
       "      <td>Ciências Exatas</td>\n",
       "      <td>NÃO</td>\n",
       "      <td>SIM</td>\n",
       "      <td>SIM</td>\n",
       "    </tr>\n",
       "    <tr>\n",
       "      <th>3</th>\n",
       "      <td>d59df35ac8cca9741c7d14751827a93372178571f12e72...</td>\n",
       "      <td>&gt;=30 e &lt;=40</td>\n",
       "      <td>Sul/Sudeste</td>\n",
       "      <td>Ciências Exatas</td>\n",
       "      <td>SIM</td>\n",
       "      <td>NÃO</td>\n",
       "      <td>NÃO</td>\n",
       "    </tr>\n",
       "    <tr>\n",
       "      <th>4</th>\n",
       "      <td>9e5ef9fc98988ed88abae4dcc91ea7b05672e5ea261b5b...</td>\n",
       "      <td>&lt;30</td>\n",
       "      <td>Sul/Sudeste</td>\n",
       "      <td>Ciências Exatas</td>\n",
       "      <td>NÃO</td>\n",
       "      <td>SIM</td>\n",
       "      <td>SIM</td>\n",
       "    </tr>\n",
       "  </tbody>\n",
       "</table>\n",
       "</div>"
      ],
      "text/plain": [
       "                                         Participant        idade  \\\n",
       "0  939065eece719c2e24382f347e0395ab9aa3f4933249c3...          <30   \n",
       "1  f5e39c38b5d7ae57a67a4e533d1c3fbadcbddae039868a...          <30   \n",
       "2  365bea1e0e58d1dd2124f6156f41cf26bde7babc74cbea...          <30   \n",
       "3  d59df35ac8cca9741c7d14751827a93372178571f12e72...  >=30 e <=40   \n",
       "4  9e5ef9fc98988ed88abae4dcc91ea7b05672e5ea261b5b...          <30   \n",
       "\n",
       "     regiao_uf    area_formacao  git pandas numpy  \n",
       "0  Sul/Sudeste              NaN  NÃO    NÃO   NÃO  \n",
       "1  Sul/Sudeste  Ciências Exatas  SIM    NÃO   NÃO  \n",
       "2     Nordeste  Ciências Exatas  NÃO    SIM   SIM  \n",
       "3  Sul/Sudeste  Ciências Exatas  SIM    NÃO   NÃO  \n",
       "4  Sul/Sudeste  Ciências Exatas  NÃO    SIM   SIM  "
      ]
     },
     "execution_count": 121,
     "metadata": {},
     "output_type": "execute_result"
    }
   ],
   "source": [
    "profile.head()"
   ]
  },
  {
   "cell_type": "code",
   "execution_count": 122,
   "metadata": {},
   "outputs": [],
   "source": [
    "import os\n",
    "\n",
    "def carrega_pasta_csv(path:str) -> pd.DataFrame:\n",
    "    \"\"\"\n",
    "    Carrega todos os arquivos CSV de uma pasta e retorna um DataFrame consolidado.\n",
    "    Parâmetros:\n",
    "    path (str): O caminho da pasta contendo os arquivos CSV.\n",
    "    Retorna:\n",
    "    pd.DataFrame: Um DataFrame consolidado contendo os dados de todos os arquivos CSV da pasta.\n",
    "    Exemplo:\n",
    "    >>> carrega_pasta_csv('/caminho/para/pasta')\n",
    "    Retorna um DataFrame consolidado com os dados dos arquivos CSV da pasta especificada.\n",
    "    \"\"\"\n",
    "\n",
    "    dados_aulas = []\n",
    "\n",
    "    for file in os.listdir(path):\n",
    "        if file.endswith('.csv'):\n",
    "            df = pd.read_csv(os.path.join(path, file))\n",
    "            df['data'] = file.split('_')[-1].split('.')[0]\n",
    "            dados_aulas.append(df)\n",
    "\n",
    "    dados_aulas = pd.concat(dados_aulas)\n",
    "    return dados_aulas.reset_index(drop=True)"
   ]
  },
  {
   "cell_type": "markdown",
   "metadata": {},
   "source": [
    "'03:10:20' => 3h10min20s ==> xxxmin"
   ]
  },
  {
   "cell_type": "code",
   "execution_count": 123,
   "metadata": {},
   "outputs": [],
   "source": [
    "from datetime import datetime\n",
    "\n",
    "str = '03:10:20'\n"
   ]
  },
  {
   "cell_type": "code",
   "execution_count": 124,
   "metadata": {},
   "outputs": [
    {
     "name": "stdout",
     "output_type": "stream",
     "text": [
      "13.3 μs ± 1.66 μs per loop (mean ± std. dev. of 7 runs, 10,000 loops each)\n"
     ]
    }
   ],
   "source": [
    "%%timeit\n",
    "time_obj = datetime.strptime(str, '%H:%M:%S')\n",
    "time_obj.hour * 60 + time_obj.minute +time_obj.second/60\n"
   ]
  },
  {
   "cell_type": "code",
   "execution_count": 125,
   "metadata": {},
   "outputs": [
    {
     "name": "stdout",
     "output_type": "stream",
     "text": [
      "2.43 μs ± 154 ns per loop (mean ± std. dev. of 7 runs, 100,000 loops each)\n"
     ]
    }
   ],
   "source": [
    "%%timeit\n",
    "sum([int(x[0])*x[1] for x in zip(str.split(':'), [60, 1, 1/60])])\n"
   ]
  },
  {
   "cell_type": "code",
   "execution_count": 126,
   "metadata": {},
   "outputs": [],
   "source": [
    "def convert_hora2minutos(hora:str) -> float:\n",
    "    return round(sum([int(x[0])*x[1] for x in zip(hora.split(':'), [60, 1, 1/60])]), 3)\n"
   ]
  },
  {
   "cell_type": "code",
   "execution_count": 127,
   "metadata": {},
   "outputs": [],
   "source": [
    "dados_aulas = carrega_pasta_csv(path = os.path.join('datasets', 'alunos'))"
   ]
  },
  {
   "cell_type": "code",
   "execution_count": 128,
   "metadata": {},
   "outputs": [
    {
     "name": "stdout",
     "output_type": "stream",
     "text": [
      "<class 'pandas.core.frame.DataFrame'>\n",
      "RangeIndex: 105 entries, 0 to 104\n",
      "Data columns (total 10 columns):\n",
      " #   Column           Non-Null Count  Dtype \n",
      "---  ------           --------------  ----- \n",
      " 0   Participant      105 non-null    object\n",
      " 1   Attendance time  105 non-null    object\n",
      " 2   Camera time      105 non-null    object\n",
      " 3   Mic time         105 non-null    object\n",
      " 4   Time speaking    105 non-null    object\n",
      " 5   Time presenting  105 non-null    object\n",
      " 6   Hands raised     105 non-null    int64 \n",
      " 7   Emojis sent      105 non-null    int64 \n",
      " 8   Messages sent    105 non-null    int64 \n",
      " 9   data             105 non-null    object\n",
      "dtypes: int64(3), object(7)\n",
      "memory usage: 8.3+ KB\n"
     ]
    }
   ],
   "source": [
    "dados_aulas.info()"
   ]
  },
  {
   "cell_type": "code",
   "execution_count": 129,
   "metadata": {},
   "outputs": [
    {
     "data": {
      "text/html": [
       "<div>\n",
       "<style scoped>\n",
       "    .dataframe tbody tr th:only-of-type {\n",
       "        vertical-align: middle;\n",
       "    }\n",
       "\n",
       "    .dataframe tbody tr th {\n",
       "        vertical-align: top;\n",
       "    }\n",
       "\n",
       "    .dataframe thead th {\n",
       "        text-align: right;\n",
       "    }\n",
       "</style>\n",
       "<table border=\"1\" class=\"dataframe\">\n",
       "  <thead>\n",
       "    <tr style=\"text-align: right;\">\n",
       "      <th></th>\n",
       "      <th>Participant</th>\n",
       "      <th>Attendance time</th>\n",
       "      <th>Camera time</th>\n",
       "      <th>Mic time</th>\n",
       "      <th>Time speaking</th>\n",
       "      <th>Time presenting</th>\n",
       "      <th>Hands raised</th>\n",
       "      <th>Emojis sent</th>\n",
       "      <th>Messages sent</th>\n",
       "      <th>data</th>\n",
       "    </tr>\n",
       "  </thead>\n",
       "  <tbody>\n",
       "    <tr>\n",
       "      <th>83</th>\n",
       "      <td>365bea1e0e58d1dd2124f6156f41cf26bde7babc74cbea...</td>\n",
       "      <td>02:55:08</td>\n",
       "      <td>02:42:31</td>\n",
       "      <td>00:00:53</td>\n",
       "      <td>00:00:45</td>\n",
       "      <td>00:00:00</td>\n",
       "      <td>0</td>\n",
       "      <td>12</td>\n",
       "      <td>2</td>\n",
       "      <td>2024-08-23</td>\n",
       "    </tr>\n",
       "    <tr>\n",
       "      <th>63</th>\n",
       "      <td>6b1335aa7b237370369cd619a67b4695844f97bc1f42be...</td>\n",
       "      <td>00:21:08</td>\n",
       "      <td>00:00:21</td>\n",
       "      <td>00:00:00</td>\n",
       "      <td>00:00:00</td>\n",
       "      <td>00:00:00</td>\n",
       "      <td>0</td>\n",
       "      <td>37</td>\n",
       "      <td>7</td>\n",
       "      <td>2024-08-21</td>\n",
       "    </tr>\n",
       "    <tr>\n",
       "      <th>22</th>\n",
       "      <td>a73035ba29e279c7dd54a959055e0ddafacb294addf8df...</td>\n",
       "      <td>03:01:40</td>\n",
       "      <td>02:42:48</td>\n",
       "      <td>00:00:07</td>\n",
       "      <td>00:00:06</td>\n",
       "      <td>00:00:00</td>\n",
       "      <td>1</td>\n",
       "      <td>11</td>\n",
       "      <td>3</td>\n",
       "      <td>2024-08-26</td>\n",
       "    </tr>\n",
       "    <tr>\n",
       "      <th>11</th>\n",
       "      <td>cbb84bc2fe8d064e85a7b92507d3e1087847c3320c0071...</td>\n",
       "      <td>03:03:41</td>\n",
       "      <td>02:49:03</td>\n",
       "      <td>00:11:47</td>\n",
       "      <td>00:06:11</td>\n",
       "      <td>00:00:00</td>\n",
       "      <td>2</td>\n",
       "      <td>72</td>\n",
       "      <td>27</td>\n",
       "      <td>2024-08-26</td>\n",
       "    </tr>\n",
       "    <tr>\n",
       "      <th>101</th>\n",
       "      <td>2d737c12904c8a1890cfb106c74c02684317184d8dff3f...</td>\n",
       "      <td>02:59:24</td>\n",
       "      <td>02:14:12</td>\n",
       "      <td>00:13:14</td>\n",
       "      <td>00:02:11</td>\n",
       "      <td>00:00:00</td>\n",
       "      <td>0</td>\n",
       "      <td>6</td>\n",
       "      <td>5</td>\n",
       "      <td>2024-08-23</td>\n",
       "    </tr>\n",
       "  </tbody>\n",
       "</table>\n",
       "</div>"
      ],
      "text/plain": [
       "                                           Participant Attendance time  \\\n",
       "83   365bea1e0e58d1dd2124f6156f41cf26bde7babc74cbea...        02:55:08   \n",
       "63   6b1335aa7b237370369cd619a67b4695844f97bc1f42be...        00:21:08   \n",
       "22   a73035ba29e279c7dd54a959055e0ddafacb294addf8df...        03:01:40   \n",
       "11   cbb84bc2fe8d064e85a7b92507d3e1087847c3320c0071...        03:03:41   \n",
       "101  2d737c12904c8a1890cfb106c74c02684317184d8dff3f...        02:59:24   \n",
       "\n",
       "    Camera time  Mic time Time speaking Time presenting  Hands raised  \\\n",
       "83     02:42:31  00:00:53      00:00:45        00:00:00             0   \n",
       "63     00:00:21  00:00:00      00:00:00        00:00:00             0   \n",
       "22     02:42:48  00:00:07      00:00:06        00:00:00             1   \n",
       "11     02:49:03  00:11:47      00:06:11        00:00:00             2   \n",
       "101    02:14:12  00:13:14      00:02:11        00:00:00             0   \n",
       "\n",
       "     Emojis sent  Messages sent        data  \n",
       "83            12              2  2024-08-23  \n",
       "63            37              7  2024-08-21  \n",
       "22            11              3  2024-08-26  \n",
       "11            72             27  2024-08-26  \n",
       "101            6              5  2024-08-23  "
      ]
     },
     "execution_count": 129,
     "metadata": {},
     "output_type": "execute_result"
    }
   ],
   "source": [
    "dados_aulas.sample(5)"
   ]
  },
  {
   "cell_type": "code",
   "execution_count": 130,
   "metadata": {},
   "outputs": [],
   "source": [
    "colunas_processar = ['Attendance time', 'Camera time', \n",
    "                     'Mic time', 'Time speaking',\n",
    "                     'Time presenting']"
   ]
  },
  {
   "cell_type": "code",
   "execution_count": 131,
   "metadata": {},
   "outputs": [],
   "source": [
    "for coluna in colunas_processar:\n",
    "    dados_aulas[coluna] = dados_aulas[coluna].apply(convert_hora2minutos)"
   ]
  },
  {
   "cell_type": "code",
   "execution_count": 132,
   "metadata": {},
   "outputs": [
    {
     "data": {
      "text/html": [
       "<div>\n",
       "<style scoped>\n",
       "    .dataframe tbody tr th:only-of-type {\n",
       "        vertical-align: middle;\n",
       "    }\n",
       "\n",
       "    .dataframe tbody tr th {\n",
       "        vertical-align: top;\n",
       "    }\n",
       "\n",
       "    .dataframe thead th {\n",
       "        text-align: right;\n",
       "    }\n",
       "</style>\n",
       "<table border=\"1\" class=\"dataframe\">\n",
       "  <thead>\n",
       "    <tr style=\"text-align: right;\">\n",
       "      <th></th>\n",
       "      <th>Participant</th>\n",
       "      <th>Attendance time</th>\n",
       "      <th>Camera time</th>\n",
       "      <th>Mic time</th>\n",
       "      <th>Time speaking</th>\n",
       "      <th>Time presenting</th>\n",
       "      <th>Hands raised</th>\n",
       "      <th>Emojis sent</th>\n",
       "      <th>Messages sent</th>\n",
       "      <th>data</th>\n",
       "    </tr>\n",
       "  </thead>\n",
       "  <tbody>\n",
       "    <tr>\n",
       "      <th>0</th>\n",
       "      <td>ca37c192f9f7539369cd549189760345543f168d828f33...</td>\n",
       "      <td>181.183</td>\n",
       "      <td>79.617</td>\n",
       "      <td>0.117</td>\n",
       "      <td>0.000</td>\n",
       "      <td>0.000</td>\n",
       "      <td>0</td>\n",
       "      <td>81</td>\n",
       "      <td>1</td>\n",
       "      <td>2024-08-26</td>\n",
       "    </tr>\n",
       "    <tr>\n",
       "      <th>1</th>\n",
       "      <td>2b2a60f6e5485123c6c8aa012d76f76187489ddd5d003a...</td>\n",
       "      <td>17.067</td>\n",
       "      <td>19.500</td>\n",
       "      <td>10.900</td>\n",
       "      <td>2.083</td>\n",
       "      <td>0.000</td>\n",
       "      <td>0</td>\n",
       "      <td>7</td>\n",
       "      <td>2</td>\n",
       "      <td>2024-08-26</td>\n",
       "    </tr>\n",
       "    <tr>\n",
       "      <th>2</th>\n",
       "      <td>ad6acd323806e30ca6a37ad2cb78f28493addc17339ef2...</td>\n",
       "      <td>166.150</td>\n",
       "      <td>48.850</td>\n",
       "      <td>1.667</td>\n",
       "      <td>0.633</td>\n",
       "      <td>0.000</td>\n",
       "      <td>0</td>\n",
       "      <td>64</td>\n",
       "      <td>4</td>\n",
       "      <td>2024-08-26</td>\n",
       "    </tr>\n",
       "    <tr>\n",
       "      <th>3</th>\n",
       "      <td>4b11afc7fc6458effe203e924722e2863e66f4fe0b1ba2...</td>\n",
       "      <td>182.017</td>\n",
       "      <td>145.767</td>\n",
       "      <td>3.717</td>\n",
       "      <td>0.167</td>\n",
       "      <td>0.000</td>\n",
       "      <td>1</td>\n",
       "      <td>5</td>\n",
       "      <td>4</td>\n",
       "      <td>2024-08-26</td>\n",
       "    </tr>\n",
       "    <tr>\n",
       "      <th>4</th>\n",
       "      <td>daed0aa5ffdee628ae24991b2c984f66ac26a172f830bb...</td>\n",
       "      <td>186.217</td>\n",
       "      <td>180.233</td>\n",
       "      <td>47.183</td>\n",
       "      <td>37.317</td>\n",
       "      <td>0.000</td>\n",
       "      <td>1</td>\n",
       "      <td>40</td>\n",
       "      <td>6</td>\n",
       "      <td>2024-08-26</td>\n",
       "    </tr>\n",
       "    <tr>\n",
       "      <th>...</th>\n",
       "      <td>...</td>\n",
       "      <td>...</td>\n",
       "      <td>...</td>\n",
       "      <td>...</td>\n",
       "      <td>...</td>\n",
       "      <td>...</td>\n",
       "      <td>...</td>\n",
       "      <td>...</td>\n",
       "      <td>...</td>\n",
       "      <td>...</td>\n",
       "    </tr>\n",
       "    <tr>\n",
       "      <th>100</th>\n",
       "      <td>a73035ba29e279c7dd54a959055e0ddafacb294addf8df...</td>\n",
       "      <td>179.117</td>\n",
       "      <td>114.167</td>\n",
       "      <td>0.200</td>\n",
       "      <td>0.167</td>\n",
       "      <td>0.000</td>\n",
       "      <td>0</td>\n",
       "      <td>6</td>\n",
       "      <td>0</td>\n",
       "      <td>2024-08-23</td>\n",
       "    </tr>\n",
       "    <tr>\n",
       "      <th>101</th>\n",
       "      <td>2d737c12904c8a1890cfb106c74c02684317184d8dff3f...</td>\n",
       "      <td>179.400</td>\n",
       "      <td>134.200</td>\n",
       "      <td>13.233</td>\n",
       "      <td>2.183</td>\n",
       "      <td>0.000</td>\n",
       "      <td>0</td>\n",
       "      <td>6</td>\n",
       "      <td>5</td>\n",
       "      <td>2024-08-23</td>\n",
       "    </tr>\n",
       "    <tr>\n",
       "      <th>102</th>\n",
       "      <td>92a66ccdd2dc048646b940702877736fa5941c6eafee71...</td>\n",
       "      <td>174.833</td>\n",
       "      <td>123.433</td>\n",
       "      <td>0.517</td>\n",
       "      <td>0.417</td>\n",
       "      <td>0.000</td>\n",
       "      <td>0</td>\n",
       "      <td>19</td>\n",
       "      <td>3</td>\n",
       "      <td>2024-08-23</td>\n",
       "    </tr>\n",
       "    <tr>\n",
       "      <th>103</th>\n",
       "      <td>6d26619b6b29eaeba89901c3aac888cec5093965f5fcaf...</td>\n",
       "      <td>171.933</td>\n",
       "      <td>108.700</td>\n",
       "      <td>0.433</td>\n",
       "      <td>0.300</td>\n",
       "      <td>0.000</td>\n",
       "      <td>0</td>\n",
       "      <td>147</td>\n",
       "      <td>14</td>\n",
       "      <td>2024-08-23</td>\n",
       "    </tr>\n",
       "    <tr>\n",
       "      <th>104</th>\n",
       "      <td>cbb84bc2fe8d064e85a7b92507d3e1087847c3320c0071...</td>\n",
       "      <td>178.900</td>\n",
       "      <td>148.950</td>\n",
       "      <td>31.083</td>\n",
       "      <td>13.633</td>\n",
       "      <td>0.767</td>\n",
       "      <td>8</td>\n",
       "      <td>58</td>\n",
       "      <td>4</td>\n",
       "      <td>2024-08-23</td>\n",
       "    </tr>\n",
       "  </tbody>\n",
       "</table>\n",
       "<p>105 rows × 10 columns</p>\n",
       "</div>"
      ],
      "text/plain": [
       "                                           Participant  Attendance time  \\\n",
       "0    ca37c192f9f7539369cd549189760345543f168d828f33...          181.183   \n",
       "1    2b2a60f6e5485123c6c8aa012d76f76187489ddd5d003a...           17.067   \n",
       "2    ad6acd323806e30ca6a37ad2cb78f28493addc17339ef2...          166.150   \n",
       "3    4b11afc7fc6458effe203e924722e2863e66f4fe0b1ba2...          182.017   \n",
       "4    daed0aa5ffdee628ae24991b2c984f66ac26a172f830bb...          186.217   \n",
       "..                                                 ...              ...   \n",
       "100  a73035ba29e279c7dd54a959055e0ddafacb294addf8df...          179.117   \n",
       "101  2d737c12904c8a1890cfb106c74c02684317184d8dff3f...          179.400   \n",
       "102  92a66ccdd2dc048646b940702877736fa5941c6eafee71...          174.833   \n",
       "103  6d26619b6b29eaeba89901c3aac888cec5093965f5fcaf...          171.933   \n",
       "104  cbb84bc2fe8d064e85a7b92507d3e1087847c3320c0071...          178.900   \n",
       "\n",
       "     Camera time  Mic time  Time speaking  Time presenting  Hands raised  \\\n",
       "0         79.617     0.117          0.000            0.000             0   \n",
       "1         19.500    10.900          2.083            0.000             0   \n",
       "2         48.850     1.667          0.633            0.000             0   \n",
       "3        145.767     3.717          0.167            0.000             1   \n",
       "4        180.233    47.183         37.317            0.000             1   \n",
       "..           ...       ...            ...              ...           ...   \n",
       "100      114.167     0.200          0.167            0.000             0   \n",
       "101      134.200    13.233          2.183            0.000             0   \n",
       "102      123.433     0.517          0.417            0.000             0   \n",
       "103      108.700     0.433          0.300            0.000             0   \n",
       "104      148.950    31.083         13.633            0.767             8   \n",
       "\n",
       "     Emojis sent  Messages sent        data  \n",
       "0             81              1  2024-08-26  \n",
       "1              7              2  2024-08-26  \n",
       "2             64              4  2024-08-26  \n",
       "3              5              4  2024-08-26  \n",
       "4             40              6  2024-08-26  \n",
       "..           ...            ...         ...  \n",
       "100            6              0  2024-08-23  \n",
       "101            6              5  2024-08-23  \n",
       "102           19              3  2024-08-23  \n",
       "103          147             14  2024-08-23  \n",
       "104           58              4  2024-08-23  \n",
       "\n",
       "[105 rows x 10 columns]"
      ]
     },
     "execution_count": 132,
     "metadata": {},
     "output_type": "execute_result"
    }
   ],
   "source": [
    "dados_aulas"
   ]
  },
  {
   "cell_type": "code",
   "execution_count": 133,
   "metadata": {},
   "outputs": [],
   "source": [
    "dados_aulas['data'] = pd.to_datetime(dados_aulas['data'], format='%Y-%m-%d')"
   ]
  },
  {
   "cell_type": "code",
   "execution_count": 134,
   "metadata": {},
   "outputs": [
    {
     "name": "stdout",
     "output_type": "stream",
     "text": [
      "<class 'pandas.core.frame.DataFrame'>\n",
      "RangeIndex: 105 entries, 0 to 104\n",
      "Data columns (total 10 columns):\n",
      " #   Column           Non-Null Count  Dtype         \n",
      "---  ------           --------------  -----         \n",
      " 0   Participant      105 non-null    object        \n",
      " 1   Attendance time  105 non-null    float64       \n",
      " 2   Camera time      105 non-null    float64       \n",
      " 3   Mic time         105 non-null    float64       \n",
      " 4   Time speaking    105 non-null    float64       \n",
      " 5   Time presenting  105 non-null    float64       \n",
      " 6   Hands raised     105 non-null    int64         \n",
      " 7   Emojis sent      105 non-null    int64         \n",
      " 8   Messages sent    105 non-null    int64         \n",
      " 9   data             105 non-null    datetime64[ns]\n",
      "dtypes: datetime64[ns](1), float64(5), int64(3), object(1)\n",
      "memory usage: 8.3+ KB\n"
     ]
    }
   ],
   "source": [
    "dados_aulas.info()"
   ]
  },
  {
   "cell_type": "code",
   "execution_count": 135,
   "metadata": {},
   "outputs": [
    {
     "data": {
      "text/html": [
       "<div>\n",
       "<style scoped>\n",
       "    .dataframe tbody tr th:only-of-type {\n",
       "        vertical-align: middle;\n",
       "    }\n",
       "\n",
       "    .dataframe tbody tr th {\n",
       "        vertical-align: top;\n",
       "    }\n",
       "\n",
       "    .dataframe thead th {\n",
       "        text-align: right;\n",
       "    }\n",
       "</style>\n",
       "<table border=\"1\" class=\"dataframe\">\n",
       "  <thead>\n",
       "    <tr style=\"text-align: right;\">\n",
       "      <th></th>\n",
       "      <th>Attendance time</th>\n",
       "      <th>Camera time</th>\n",
       "      <th>Mic time</th>\n",
       "      <th>Time speaking</th>\n",
       "      <th>Time presenting</th>\n",
       "      <th>Hands raised</th>\n",
       "      <th>Emojis sent</th>\n",
       "      <th>Messages sent</th>\n",
       "      <th>data</th>\n",
       "    </tr>\n",
       "  </thead>\n",
       "  <tbody>\n",
       "    <tr>\n",
       "      <th>count</th>\n",
       "      <td>105.000000</td>\n",
       "      <td>105.000000</td>\n",
       "      <td>105.000000</td>\n",
       "      <td>105.000000</td>\n",
       "      <td>105.000000</td>\n",
       "      <td>105.000000</td>\n",
       "      <td>105.000000</td>\n",
       "      <td>105.000000</td>\n",
       "      <td>105</td>\n",
       "    </tr>\n",
       "    <tr>\n",
       "      <th>mean</th>\n",
       "      <td>135.946648</td>\n",
       "      <td>121.950952</td>\n",
       "      <td>16.952562</td>\n",
       "      <td>8.656181</td>\n",
       "      <td>5.868257</td>\n",
       "      <td>1.352381</td>\n",
       "      <td>40.923810</td>\n",
       "      <td>9.438095</td>\n",
       "      <td>2024-08-24 15:05:08.571428608</td>\n",
       "    </tr>\n",
       "    <tr>\n",
       "      <th>min</th>\n",
       "      <td>0.000000</td>\n",
       "      <td>0.000000</td>\n",
       "      <td>0.000000</td>\n",
       "      <td>0.000000</td>\n",
       "      <td>0.000000</td>\n",
       "      <td>0.000000</td>\n",
       "      <td>0.000000</td>\n",
       "      <td>0.000000</td>\n",
       "      <td>2024-08-21 00:00:00</td>\n",
       "    </tr>\n",
       "    <tr>\n",
       "      <th>25%</th>\n",
       "      <td>21.267000</td>\n",
       "      <td>95.450000</td>\n",
       "      <td>0.117000</td>\n",
       "      <td>0.000000</td>\n",
       "      <td>0.000000</td>\n",
       "      <td>0.000000</td>\n",
       "      <td>5.000000</td>\n",
       "      <td>1.000000</td>\n",
       "      <td>2024-08-23 00:00:00</td>\n",
       "    </tr>\n",
       "    <tr>\n",
       "      <th>50%</th>\n",
       "      <td>178.950000</td>\n",
       "      <td>134.850000</td>\n",
       "      <td>2.467000</td>\n",
       "      <td>1.100000</td>\n",
       "      <td>0.000000</td>\n",
       "      <td>0.000000</td>\n",
       "      <td>30.000000</td>\n",
       "      <td>4.000000</td>\n",
       "      <td>2024-08-26 00:00:00</td>\n",
       "    </tr>\n",
       "    <tr>\n",
       "      <th>75%</th>\n",
       "      <td>184.400000</td>\n",
       "      <td>162.517000</td>\n",
       "      <td>16.883000</td>\n",
       "      <td>4.817000</td>\n",
       "      <td>0.000000</td>\n",
       "      <td>2.000000</td>\n",
       "      <td>58.000000</td>\n",
       "      <td>9.000000</td>\n",
       "      <td>2024-08-28 00:00:00</td>\n",
       "    </tr>\n",
       "    <tr>\n",
       "      <th>max</th>\n",
       "      <td>211.983000</td>\n",
       "      <td>185.717000</td>\n",
       "      <td>195.717000</td>\n",
       "      <td>154.450000</td>\n",
       "      <td>153.433000</td>\n",
       "      <td>10.000000</td>\n",
       "      <td>294.000000</td>\n",
       "      <td>86.000000</td>\n",
       "      <td>2024-08-28 00:00:00</td>\n",
       "    </tr>\n",
       "    <tr>\n",
       "      <th>std</th>\n",
       "      <td>75.537072</td>\n",
       "      <td>51.424098</td>\n",
       "      <td>40.351678</td>\n",
       "      <td>27.311096</td>\n",
       "      <td>26.452444</td>\n",
       "      <td>2.192562</td>\n",
       "      <td>49.071709</td>\n",
       "      <td>15.063918</td>\n",
       "      <td>NaN</td>\n",
       "    </tr>\n",
       "  </tbody>\n",
       "</table>\n",
       "</div>"
      ],
      "text/plain": [
       "       Attendance time  Camera time    Mic time  Time speaking  \\\n",
       "count       105.000000   105.000000  105.000000     105.000000   \n",
       "mean        135.946648   121.950952   16.952562       8.656181   \n",
       "min           0.000000     0.000000    0.000000       0.000000   \n",
       "25%          21.267000    95.450000    0.117000       0.000000   \n",
       "50%         178.950000   134.850000    2.467000       1.100000   \n",
       "75%         184.400000   162.517000   16.883000       4.817000   \n",
       "max         211.983000   185.717000  195.717000     154.450000   \n",
       "std          75.537072    51.424098   40.351678      27.311096   \n",
       "\n",
       "       Time presenting  Hands raised  Emojis sent  Messages sent  \\\n",
       "count       105.000000    105.000000   105.000000     105.000000   \n",
       "mean          5.868257      1.352381    40.923810       9.438095   \n",
       "min           0.000000      0.000000     0.000000       0.000000   \n",
       "25%           0.000000      0.000000     5.000000       1.000000   \n",
       "50%           0.000000      0.000000    30.000000       4.000000   \n",
       "75%           0.000000      2.000000    58.000000       9.000000   \n",
       "max         153.433000     10.000000   294.000000      86.000000   \n",
       "std          26.452444      2.192562    49.071709      15.063918   \n",
       "\n",
       "                                data  \n",
       "count                            105  \n",
       "mean   2024-08-24 15:05:08.571428608  \n",
       "min              2024-08-21 00:00:00  \n",
       "25%              2024-08-23 00:00:00  \n",
       "50%              2024-08-26 00:00:00  \n",
       "75%              2024-08-28 00:00:00  \n",
       "max              2024-08-28 00:00:00  \n",
       "std                              NaN  "
      ]
     },
     "execution_count": 135,
     "metadata": {},
     "output_type": "execute_result"
    }
   ],
   "source": [
    "dados_aulas.describe()"
   ]
  },
  {
   "cell_type": "code",
   "execution_count": 136,
   "metadata": {},
   "outputs": [],
   "source": [
    "limite_50 = 134.85\n",
    "limite_70 = 162.517"
   ]
  },
  {
   "cell_type": "code",
   "execution_count": 137,
   "metadata": {},
   "outputs": [],
   "source": [
    "df2 = dados_aulas[dados_aulas['Camera time'] < limite_50].reset_index(drop=True)"
   ]
  },
  {
   "cell_type": "code",
   "execution_count": 138,
   "metadata": {},
   "outputs": [
    {
     "data": {
      "text/plain": [
       "Participant\n",
       "2b2a60f6e5485123c6c8aa012d76f76187489ddd5d003a82d627986f4c928125    6\n",
       "86542b003e830186a9f5a8ce2f147bfecf7ba00c73e89747924abb431c4807ef    4\n",
       "8e59bee15978f8c0a1d9a9d82802b2be19083c373454fd44681f83c5524c2b35    3\n",
       "47a7c412c0ede005f50d7fcf7c9207e69e53f2045d81c793edad4b893693202a    3\n",
       "ad6acd323806e30ca6a37ad2cb78f28493addc17339ef246b2934e18a7765b07    3\n",
       "2d737c12904c8a1890cfb106c74c02684317184d8dff3fbe83324bc1d21d438d    3\n",
       "edab98fbc0a76faf6231492eccd3cac4779cdce812248f4147136a9d51c281b6    3\n",
       "dba68f39815752c5ce8ed9ed8740d520ad5b1fd9640f8d95c377170d0fef76e8    3\n",
       "6d26619b6b29eaeba89901c3aac888cec5093965f5fcaf3420d9f0038024c29f    3\n",
       "5c42c56b65dbc3ef6676cd3cb68accb47c45ee9b25ce5480bd255422d673da0f    3\n",
       "ca37c192f9f7539369cd549189760345543f168d828f33f85f4799745a41e45a    2\n",
       "92a66ccdd2dc048646b940702877736fa5941c6eafee717b3ff480cabb9ab3f4    2\n",
       "365bea1e0e58d1dd2124f6156f41cf26bde7babc74cbeaf8936f7fecc65ae654    2\n",
       "3c24c973491a4900c95f36a53c7e70a52c48a08e706edab9eaa8ab7911af7b39    2\n",
       "f5e39c38b5d7ae57a67a4e533d1c3fbadcbddae039868a0c222dd0be50cf8560    2\n",
       "6b1335aa7b237370369cd619a67b4695844f97bc1f42bec8b7771615fe6d4d74    2\n",
       "a73035ba29e279c7dd54a959055e0ddafacb294addf8dfe8fdf5ac0118550f6d    2\n",
       "9e5ef9fc98988ed88abae4dcc91ea7b05672e5ea261b5ba9f25fce1a110dfcd1    1\n",
       "939065eece719c2e24382f347e0395ab9aa3f4933249c3b2ad1a1fa7027a91be    1\n",
       "daed0aa5ffdee628ae24991b2c984f66ac26a172f830bb0b12ed5d9dacb0d2a2    1\n",
       "71ebcb21b682814489a1c1ca431691e9c0c38a28ebeecec2eec5e6e3d75b554b    1\n",
       "Name: count, dtype: int64"
      ]
     },
     "execution_count": 138,
     "metadata": {},
     "output_type": "execute_result"
    }
   ],
   "source": [
    "df2.Participant.value_counts()"
   ]
  },
  {
   "cell_type": "code",
   "execution_count": 139,
   "metadata": {},
   "outputs": [
    {
     "data": {
      "text/plain": [
       "Participant\n",
       "4b11afc7fc6458effe203e924722e2863e66f4fe0b1ba20b41d68e3328415800    4\n",
       "cbb84bc2fe8d064e85a7b92507d3e1087847c3320c007173f98e6a3fed9bc570    3\n",
       "d59df35ac8cca9741c7d14751827a93372178571f12e725a4d11d3452463a502    2\n",
       "9e5ef9fc98988ed88abae4dcc91ea7b05672e5ea261b5ba9f25fce1a110dfcd1    2\n",
       "04b90521e23b6a5589c7f55c86a71a3fe223dd4631ea51fac7d42ec3ffb561f6    2\n",
       "6b1335aa7b237370369cd619a67b4695844f97bc1f42bec8b7771615fe6d4d74    1\n",
       "daed0aa5ffdee628ae24991b2c984f66ac26a172f830bb0b12ed5d9dacb0d2a2    1\n",
       "3c24c973491a4900c95f36a53c7e70a52c48a08e706edab9eaa8ab7911af7b39    1\n",
       "a73035ba29e279c7dd54a959055e0ddafacb294addf8dfe8fdf5ac0118550f6d    1\n",
       "92a66ccdd2dc048646b940702877736fa5941c6eafee717b3ff480cabb9ab3f4    1\n",
       "dba68f39815752c5ce8ed9ed8740d520ad5b1fd9640f8d95c377170d0fef76e8    1\n",
       "71ebcb21b682814489a1c1ca431691e9c0c38a28ebeecec2eec5e6e3d75b554b    1\n",
       "6d26619b6b29eaeba89901c3aac888cec5093965f5fcaf3420d9f0038024c29f    1\n",
       "47a7c412c0ede005f50d7fcf7c9207e69e53f2045d81c793edad4b893693202a    1\n",
       "ad6acd323806e30ca6a37ad2cb78f28493addc17339ef246b2934e18a7765b07    1\n",
       "ba3138325b35c4d45f2a9ece725128f7b9f88df5c4828e0635447b84c5d51e7b    1\n",
       "2b2a60f6e5485123c6c8aa012d76f76187489ddd5d003a82d627986f4c928125    1\n",
       "8e59bee15978f8c0a1d9a9d82802b2be19083c373454fd44681f83c5524c2b35    1\n",
       "Name: count, dtype: int64"
      ]
     },
     "execution_count": 139,
     "metadata": {},
     "output_type": "execute_result"
    }
   ],
   "source": [
    "dados_aulas[(dados_aulas['Camera time'] >= limite_50) & \n",
    "            (dados_aulas['Camera time'] < limite_70)].Participant.value_counts()"
   ]
  },
  {
   "cell_type": "code",
   "execution_count": 140,
   "metadata": {},
   "outputs": [
    {
     "data": {
      "text/plain": [
       "Participant\n",
       "939065eece719c2e24382f347e0395ab9aa3f4933249c3b2ad1a1fa7027a91be    3\n",
       "ba3138325b35c4d45f2a9ece725128f7b9f88df5c4828e0635447b84c5d51e7b    3\n",
       "daed0aa5ffdee628ae24991b2c984f66ac26a172f830bb0b12ed5d9dacb0d2a2    2\n",
       "04b90521e23b6a5589c7f55c86a71a3fe223dd4631ea51fac7d42ec3ffb561f6    2\n",
       "71ebcb21b682814489a1c1ca431691e9c0c38a28ebeecec2eec5e6e3d75b554b    2\n",
       "d59df35ac8cca9741c7d14751827a93372178571f12e725a4d11d3452463a502    2\n",
       "365bea1e0e58d1dd2124f6156f41cf26bde7babc74cbeaf8936f7fecc65ae654    2\n",
       "5c42c56b65dbc3ef6676cd3cb68accb47c45ee9b25ce5480bd255422d673da0f    1\n",
       "edab98fbc0a76faf6231492eccd3cac4779cdce812248f4147136a9d51c281b6    1\n",
       "cbb84bc2fe8d064e85a7b92507d3e1087847c3320c007173f98e6a3fed9bc570    1\n",
       "a73035ba29e279c7dd54a959055e0ddafacb294addf8dfe8fdf5ac0118550f6d    1\n",
       "f5e39c38b5d7ae57a67a4e533d1c3fbadcbddae039868a0c222dd0be50cf8560    1\n",
       "92a66ccdd2dc048646b940702877736fa5941c6eafee717b3ff480cabb9ab3f4    1\n",
       "6b1335aa7b237370369cd619a67b4695844f97bc1f42bec8b7771615fe6d4d74    1\n",
       "2d737c12904c8a1890cfb106c74c02684317184d8dff3fbe83324bc1d21d438d    1\n",
       "ca37c192f9f7539369cd549189760345543f168d828f33f85f4799745a41e45a    1\n",
       "2b2a60f6e5485123c6c8aa012d76f76187489ddd5d003a82d627986f4c928125    1\n",
       "3c24c973491a4900c95f36a53c7e70a52c48a08e706edab9eaa8ab7911af7b39    1\n",
       "Name: count, dtype: int64"
      ]
     },
     "execution_count": 140,
     "metadata": {},
     "output_type": "execute_result"
    }
   ],
   "source": [
    "dados_aulas.query(f'`Camera time` >= {limite_70}').Participant.value_counts()"
   ]
  },
  {
   "cell_type": "code",
   "execution_count": 141,
   "metadata": {},
   "outputs": [],
   "source": [
    "colunas = dados_aulas.columns"
   ]
  },
  {
   "cell_type": "code",
   "execution_count": 142,
   "metadata": {},
   "outputs": [
    {
     "data": {
      "text/plain": [
       "\"dados_agregados = dados_aulas    .groupby('Participant')    .agg({\\n            'data': ['count'],\\n            **{c: ['mean', 'std','median'] for c in colunas[1:-1]}\\n        })\""
      ]
     },
     "execution_count": 142,
     "metadata": {},
     "output_type": "execute_result"
    }
   ],
   "source": [
    "dados_agregados = dados_aulas[colunas[:-1]]\\\n",
    "    .groupby('Participant')\\\n",
    "    .agg({c: ['mean', 'std','median'] for c in colunas[1:-1]})\n",
    "\n",
    "'''dados_agregados = dados_aulas\\\n",
    "    .groupby('Participant')\\\n",
    "    .agg({\n",
    "            'data': ['count'],\n",
    "            **{c: ['mean', 'std','median'] for c in colunas[1:-1]}\n",
    "        })'''"
   ]
  },
  {
   "cell_type": "code",
   "execution_count": 143,
   "metadata": {},
   "outputs": [
    {
     "data": {
      "text/plain": [
       "((105, 2), (101, 2))"
      ]
     },
     "execution_count": 143,
     "metadata": {},
     "output_type": "execute_result"
    }
   ],
   "source": [
    "dados_aulas[['Participant', 'data']].shape, \\\n",
    "dados_aulas[['Participant', 'data']].drop_duplicates().shape"
   ]
  },
  {
   "cell_type": "code",
   "execution_count": 144,
   "metadata": {},
   "outputs": [
    {
     "data": {
      "text/html": [
       "<div>\n",
       "<style scoped>\n",
       "    .dataframe tbody tr th:only-of-type {\n",
       "        vertical-align: middle;\n",
       "    }\n",
       "\n",
       "    .dataframe tbody tr th {\n",
       "        vertical-align: top;\n",
       "    }\n",
       "\n",
       "    .dataframe thead th {\n",
       "        text-align: right;\n",
       "    }\n",
       "</style>\n",
       "<table border=\"1\" class=\"dataframe\">\n",
       "  <thead>\n",
       "    <tr style=\"text-align: right;\">\n",
       "      <th></th>\n",
       "      <th>data</th>\n",
       "    </tr>\n",
       "    <tr>\n",
       "      <th>Participant</th>\n",
       "      <th></th>\n",
       "    </tr>\n",
       "  </thead>\n",
       "  <tbody>\n",
       "    <tr>\n",
       "      <th>04b90521e23b6a5589c7f55c86a71a3fe223dd4631ea51fac7d42ec3ffb561f6</th>\n",
       "      <td>4</td>\n",
       "    </tr>\n",
       "    <tr>\n",
       "      <th>2b2a60f6e5485123c6c8aa012d76f76187489ddd5d003a82d627986f4c928125</th>\n",
       "      <td>4</td>\n",
       "    </tr>\n",
       "  </tbody>\n",
       "</table>\n",
       "</div>"
      ],
      "text/plain": [
       "                                                    data\n",
       "Participant                                             \n",
       "04b90521e23b6a5589c7f55c86a71a3fe223dd4631ea51f...     4\n",
       "2b2a60f6e5485123c6c8aa012d76f76187489ddd5d003a8...     4"
      ]
     },
     "execution_count": 144,
     "metadata": {},
     "output_type": "execute_result"
    }
   ],
   "source": [
    "dados_agg_aulas = dados_aulas[['Participant', 'data']].drop_duplicates()\\\n",
    "    .groupby(['Participant']).count()\n",
    "\n",
    "dados_agg_aulas.head(2)"
   ]
  },
  {
   "cell_type": "code",
   "execution_count": 145,
   "metadata": {},
   "outputs": [
    {
     "data": {
      "text/plain": [
       "Index(['Participant', '20240821', '20240823', '20240826', '20240828'], dtype='object')"
      ]
     },
     "execution_count": 145,
     "metadata": {},
     "output_type": "execute_result"
    }
   ],
   "source": [
    "dados_presencao_dia = dados_aulas[['Participant', 'data', 'Camera time']]\\\n",
    "    .drop_duplicates(subset=['Participant', 'data'])\\\n",
    "    .pivot_table(index='Participant',\n",
    "                 columns='data',\n",
    "                 values='Camera time',\n",
    "                 aggfunc='count',\n",
    "                 fill_value=0).reset_index()#.drop(columns=['data'])\n",
    "\n",
    "dados_presencao_dia.columns = ['Participant'] + [c.strftime('%Y%m%d') for c in dados_presencao_dia.columns[1:]]\n",
    "\n",
    "\n",
    "\n",
    "dados_presencao_dia.columns"
   ]
  },
  {
   "cell_type": "markdown",
   "metadata": {},
   "source": [
    "### Merge (join)\n",
    "\n",
    "Outra tarefa muito comum quando estamos trabalhando com bases de dados é o **cruzamento**\n",
    "\n",
    "Para fazer isso, utilizamos o método **.merge()**, cujos modos de cruzamento são:\n",
    "\n",
    "<img src=\"https://community.qlik.com/legacyfs/online/87693_all-joins.png\" width=450>"
   ]
  },
  {
   "cell_type": "code",
   "execution_count": 147,
   "metadata": {},
   "outputs": [
    {
     "data": {
      "text/plain": [
       "Index(['Participant', 'idade', 'regiao_uf', 'area_formacao', 'git', 'pandas',\n",
       "       'numpy'],\n",
       "      dtype='object')"
      ]
     },
     "execution_count": 147,
     "metadata": {},
     "output_type": "execute_result"
    }
   ],
   "source": [
    "profile.columns"
   ]
  },
  {
   "cell_type": "code",
   "execution_count": 148,
   "metadata": {},
   "outputs": [],
   "source": [
    "dados_agregados.reset_index(inplace=True)"
   ]
  },
  {
   "cell_type": "code",
   "execution_count": 149,
   "metadata": {},
   "outputs": [],
   "source": [
    "dados_agregados.columns = [' '.join(col).strip() for col in dados_agregados.columns.values]"
   ]
  },
  {
   "cell_type": "code",
   "execution_count": 150,
   "metadata": {},
   "outputs": [
    {
     "data": {
      "text/plain": [
       "Index(['Participant', 'Attendance time mean', 'Attendance time std',\n",
       "       'Attendance time median', 'Camera time mean', 'Camera time std',\n",
       "       'Camera time median', 'Mic time mean', 'Mic time std',\n",
       "       'Mic time median', 'Time speaking mean', 'Time speaking std',\n",
       "       'Time speaking median', 'Time presenting mean', 'Time presenting std',\n",
       "       'Time presenting median', 'Hands raised mean', 'Hands raised std',\n",
       "       'Hands raised median', 'Emojis sent mean', 'Emojis sent std',\n",
       "       'Emojis sent median', 'Messages sent mean', 'Messages sent std',\n",
       "       'Messages sent median'],\n",
       "      dtype='object')"
      ]
     },
     "execution_count": 150,
     "metadata": {},
     "output_type": "execute_result"
    }
   ],
   "source": [
    "dados_agregados.columns"
   ]
  },
  {
   "cell_type": "code",
   "execution_count": 151,
   "metadata": {},
   "outputs": [
    {
     "data": {
      "text/plain": [
       "((21, 7), (26, 25))"
      ]
     },
     "execution_count": 151,
     "metadata": {},
     "output_type": "execute_result"
    }
   ],
   "source": [
    "profile.shape, dados_agregados.shape"
   ]
  },
  {
   "cell_type": "code",
   "execution_count": 152,
   "metadata": {},
   "outputs": [],
   "source": [
    "df_frequencia = pd.merge(left = dados_agg_aulas,\n",
    "         right = dados_presencao_dia,\n",
    "         on='Participant',\n",
    "         how='inner').rename(columns={'data': 'qtd_aulas'})"
   ]
  },
  {
   "cell_type": "code",
   "execution_count": 153,
   "metadata": {},
   "outputs": [
    {
     "data": {
      "text/html": [
       "<div>\n",
       "<style scoped>\n",
       "    .dataframe tbody tr th:only-of-type {\n",
       "        vertical-align: middle;\n",
       "    }\n",
       "\n",
       "    .dataframe tbody tr th {\n",
       "        vertical-align: top;\n",
       "    }\n",
       "\n",
       "    .dataframe thead th {\n",
       "        text-align: right;\n",
       "    }\n",
       "</style>\n",
       "<table border=\"1\" class=\"dataframe\">\n",
       "  <thead>\n",
       "    <tr style=\"text-align: right;\">\n",
       "      <th></th>\n",
       "      <th>Participant</th>\n",
       "      <th>Attendance time mean</th>\n",
       "      <th>Attendance time std</th>\n",
       "      <th>Attendance time median</th>\n",
       "      <th>Camera time mean</th>\n",
       "      <th>Camera time std</th>\n",
       "      <th>Camera time median</th>\n",
       "      <th>Mic time mean</th>\n",
       "      <th>Mic time std</th>\n",
       "      <th>Mic time median</th>\n",
       "      <th>...</th>\n",
       "      <th>Time presenting median</th>\n",
       "      <th>Hands raised mean</th>\n",
       "      <th>Hands raised std</th>\n",
       "      <th>Hands raised median</th>\n",
       "      <th>Emojis sent mean</th>\n",
       "      <th>Emojis sent std</th>\n",
       "      <th>Emojis sent median</th>\n",
       "      <th>Messages sent mean</th>\n",
       "      <th>Messages sent std</th>\n",
       "      <th>Messages sent median</th>\n",
       "    </tr>\n",
       "  </thead>\n",
       "  <tbody>\n",
       "    <tr>\n",
       "      <th>0</th>\n",
       "      <td>04b90521e23b6a5589c7f55c86a71a3fe223dd4631ea51...</td>\n",
       "      <td>152.2125</td>\n",
       "      <td>88.052602</td>\n",
       "      <td>187.8000</td>\n",
       "      <td>162.800250</td>\n",
       "      <td>9.003954</td>\n",
       "      <td>162.9585</td>\n",
       "      <td>181.116750</td>\n",
       "      <td>10.494976</td>\n",
       "      <td>177.6665</td>\n",
       "      <td>...</td>\n",
       "      <td>139.0665</td>\n",
       "      <td>0.000</td>\n",
       "      <td>0.00000</td>\n",
       "      <td>0.0</td>\n",
       "      <td>1.000</td>\n",
       "      <td>0.816497</td>\n",
       "      <td>1.0</td>\n",
       "      <td>2.0</td>\n",
       "      <td>2.309401</td>\n",
       "      <td>2.0</td>\n",
       "    </tr>\n",
       "    <tr>\n",
       "      <th>1</th>\n",
       "      <td>2b2a60f6e5485123c6c8aa012d76f76187489ddd5d003a...</td>\n",
       "      <td>135.4040</td>\n",
       "      <td>73.240704</td>\n",
       "      <td>161.6165</td>\n",
       "      <td>77.714625</td>\n",
       "      <td>75.558808</td>\n",
       "      <td>71.4250</td>\n",
       "      <td>11.835375</td>\n",
       "      <td>10.371029</td>\n",
       "      <td>12.7585</td>\n",
       "      <td>...</td>\n",
       "      <td>0.0000</td>\n",
       "      <td>3.375</td>\n",
       "      <td>3.73927</td>\n",
       "      <td>2.5</td>\n",
       "      <td>50.625</td>\n",
       "      <td>50.821642</td>\n",
       "      <td>42.0</td>\n",
       "      <td>17.5</td>\n",
       "      <td>17.138095</td>\n",
       "      <td>15.0</td>\n",
       "    </tr>\n",
       "  </tbody>\n",
       "</table>\n",
       "<p>2 rows × 25 columns</p>\n",
       "</div>"
      ],
      "text/plain": [
       "                                         Participant  Attendance time mean  \\\n",
       "0  04b90521e23b6a5589c7f55c86a71a3fe223dd4631ea51...              152.2125   \n",
       "1  2b2a60f6e5485123c6c8aa012d76f76187489ddd5d003a...              135.4040   \n",
       "\n",
       "   Attendance time std  Attendance time median  Camera time mean  \\\n",
       "0            88.052602                187.8000        162.800250   \n",
       "1            73.240704                161.6165         77.714625   \n",
       "\n",
       "   Camera time std  Camera time median  Mic time mean  Mic time std  \\\n",
       "0         9.003954            162.9585     181.116750     10.494976   \n",
       "1        75.558808             71.4250      11.835375     10.371029   \n",
       "\n",
       "   Mic time median  ...  Time presenting median  Hands raised mean  \\\n",
       "0         177.6665  ...                139.0665              0.000   \n",
       "1          12.7585  ...                  0.0000              3.375   \n",
       "\n",
       "   Hands raised std  Hands raised median  Emojis sent mean  Emojis sent std  \\\n",
       "0           0.00000                  0.0             1.000         0.816497   \n",
       "1           3.73927                  2.5            50.625        50.821642   \n",
       "\n",
       "   Emojis sent median  Messages sent mean  Messages sent std  \\\n",
       "0                 1.0                 2.0           2.309401   \n",
       "1                42.0                17.5          17.138095   \n",
       "\n",
       "   Messages sent median  \n",
       "0                   2.0  \n",
       "1                  15.0  \n",
       "\n",
       "[2 rows x 25 columns]"
      ]
     },
     "execution_count": 153,
     "metadata": {},
     "output_type": "execute_result"
    }
   ],
   "source": [
    "dados_agregados.head(2)"
   ]
  },
  {
   "cell_type": "code",
   "execution_count": 166,
   "metadata": {},
   "outputs": [
    {
     "data": {
      "text/html": [
       "<div>\n",
       "<style scoped>\n",
       "    .dataframe tbody tr th:only-of-type {\n",
       "        vertical-align: middle;\n",
       "    }\n",
       "\n",
       "    .dataframe tbody tr th {\n",
       "        vertical-align: top;\n",
       "    }\n",
       "\n",
       "    .dataframe thead th {\n",
       "        text-align: right;\n",
       "    }\n",
       "</style>\n",
       "<table border=\"1\" class=\"dataframe\">\n",
       "  <thead>\n",
       "    <tr style=\"text-align: right;\">\n",
       "      <th></th>\n",
       "      <th>Participant</th>\n",
       "      <th>idade</th>\n",
       "      <th>regiao_uf</th>\n",
       "      <th>area_formacao</th>\n",
       "      <th>git</th>\n",
       "      <th>pandas</th>\n",
       "      <th>numpy</th>\n",
       "      <th>Attendance time mean</th>\n",
       "      <th>Attendance time std</th>\n",
       "      <th>Attendance time median</th>\n",
       "      <th>...</th>\n",
       "      <th>Emojis sent std</th>\n",
       "      <th>Emojis sent median</th>\n",
       "      <th>Messages sent mean</th>\n",
       "      <th>Messages sent std</th>\n",
       "      <th>Messages sent median</th>\n",
       "      <th>qtd_aulas</th>\n",
       "      <th>20240821</th>\n",
       "      <th>20240823</th>\n",
       "      <th>20240826</th>\n",
       "      <th>20240828</th>\n",
       "    </tr>\n",
       "  </thead>\n",
       "  <tbody>\n",
       "    <tr>\n",
       "      <th>0</th>\n",
       "      <td>04b90521e23b6a5589c7f55c86a71a3fe223dd4631ea51...</td>\n",
       "      <td>NaN</td>\n",
       "      <td>NaN</td>\n",
       "      <td>NaN</td>\n",
       "      <td>NaN</td>\n",
       "      <td>NaN</td>\n",
       "      <td>NaN</td>\n",
       "      <td>152.2125</td>\n",
       "      <td>88.052602</td>\n",
       "      <td>187.8000</td>\n",
       "      <td>...</td>\n",
       "      <td>0.816497</td>\n",
       "      <td>1.0</td>\n",
       "      <td>2.0</td>\n",
       "      <td>2.309401</td>\n",
       "      <td>2.0</td>\n",
       "      <td>4.0</td>\n",
       "      <td>1.0</td>\n",
       "      <td>1.0</td>\n",
       "      <td>1.0</td>\n",
       "      <td>1.0</td>\n",
       "    </tr>\n",
       "    <tr>\n",
       "      <th>1</th>\n",
       "      <td>2b2a60f6e5485123c6c8aa012d76f76187489ddd5d003a...</td>\n",
       "      <td>NaN</td>\n",
       "      <td>NaN</td>\n",
       "      <td>NaN</td>\n",
       "      <td>NaN</td>\n",
       "      <td>NaN</td>\n",
       "      <td>NaN</td>\n",
       "      <td>135.4040</td>\n",
       "      <td>73.240704</td>\n",
       "      <td>161.6165</td>\n",
       "      <td>...</td>\n",
       "      <td>50.821642</td>\n",
       "      <td>42.0</td>\n",
       "      <td>17.5</td>\n",
       "      <td>17.138095</td>\n",
       "      <td>15.0</td>\n",
       "      <td>4.0</td>\n",
       "      <td>1.0</td>\n",
       "      <td>1.0</td>\n",
       "      <td>1.0</td>\n",
       "      <td>1.0</td>\n",
       "    </tr>\n",
       "  </tbody>\n",
       "</table>\n",
       "<p>2 rows × 36 columns</p>\n",
       "</div>"
      ],
      "text/plain": [
       "                                         Participant idade regiao_uf  \\\n",
       "0  04b90521e23b6a5589c7f55c86a71a3fe223dd4631ea51...   NaN       NaN   \n",
       "1  2b2a60f6e5485123c6c8aa012d76f76187489ddd5d003a...   NaN       NaN   \n",
       "\n",
       "  area_formacao  git pandas numpy  Attendance time mean  Attendance time std  \\\n",
       "0           NaN  NaN    NaN   NaN              152.2125            88.052602   \n",
       "1           NaN  NaN    NaN   NaN              135.4040            73.240704   \n",
       "\n",
       "   Attendance time median  ...  Emojis sent std  Emojis sent median  \\\n",
       "0                187.8000  ...         0.816497                 1.0   \n",
       "1                161.6165  ...        50.821642                42.0   \n",
       "\n",
       "   Messages sent mean  Messages sent std  Messages sent median  qtd_aulas  \\\n",
       "0                 2.0           2.309401                   2.0        4.0   \n",
       "1                17.5          17.138095                  15.0        4.0   \n",
       "\n",
       "   20240821  20240823  20240826  20240828  \n",
       "0       1.0       1.0       1.0       1.0  \n",
       "1       1.0       1.0       1.0       1.0  \n",
       "\n",
       "[2 rows x 36 columns]"
      ]
     },
     "execution_count": 166,
     "metadata": {},
     "output_type": "execute_result"
    }
   ],
   "source": [
    "dados = pd.merge(left=profile,\n",
    "                right=dados_agregados, \n",
    "                on='Participant',\n",
    "                how='outer'\n",
    "                )\n",
    "\n",
    "dados = pd.merge(left = dados,\n",
    "            right = df_frequencia,\n",
    "            on='Participant',\n",
    "            how='left')\n",
    "\n",
    "dados.head(2)"
   ]
  },
  {
   "cell_type": "code",
   "execution_count": null,
   "metadata": {},
   "outputs": [],
   "source": []
  }
 ],
 "metadata": {
  "kernelspec": {
   "display_name": "aula",
   "language": "python",
   "name": "python3"
  },
  "language_info": {
   "codemirror_mode": {
    "name": "ipython",
    "version": 3
   },
   "file_extension": ".py",
   "mimetype": "text/x-python",
   "name": "python",
   "nbconvert_exporter": "python",
   "pygments_lexer": "ipython3",
   "version": "3.11.9"
  }
 },
 "nbformat": 4,
 "nbformat_minor": 2
}
